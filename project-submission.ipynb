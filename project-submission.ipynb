{
 "cells": [
  {
   "cell_type": "markdown",
   "metadata": {},
   "source": [
    "# Project\n",
    "- Work solo or with one other person\n",
    "- Topic should be something interesting and fun for you\n",
    "- Your code should be written in Python 3.6\n",
    "- Effort roughly equivalent to two homeworks\n",
    "    - perhaps 150-200 lines of code\n",
    "    - sometimes people really get into it, which is fine\n",
    "        - have seen 1,000 line programs, but this is NOT necessary\n",
    "- All I'm really looking for is to see you've learned some Python and can do something with it\n",
    "- Happy to discuss your project with you if you have questions\n",
    "- Hangman games are discouraged(seen a pile of them)"
   ]
  },
  {
   "cell_type": "markdown",
   "metadata": {},
   "source": [
    "# If you did a project with a partner, fill in this cell\n",
    "\n",
    "#### name1: Saveliy Yusufov\n",
    "#### UNI1: sy2685\n",
    "\n",
    "- Created initial, working skeleton of the game \n",
    "- Implemented functionality to have towers adjust their aim in order to hit zombies (go into more detail about the function you wrote here and the math behind it.)\n",
    "- Implemented the feature for zombies to be generated onto the screen, randomly.\n",
    "- Cleaned up code and made sure that objects that were deleted from the screen were actually removed.\n",
    "\n",
    "#### name2: Michael Harley\n",
    "#### UNI2: mh3686\n",
    "\n",
    "- Took care of all sprites, images, and cutting individual images from spritesheets in order to utilize them in the game.\n",
    "- Created the functionality to drag and drop towers onto the screen.\n",
    "- Worked on improving overall gameplay, based on the input of testers.\n",
    "\n",
    "#### Team efforts:\n",
    "- ** Finding and fixing bugs, e.g. collision detection, was a team effort **\n",
    "- ** Finding people to play our game in order to receive feedback on overplay playability and bugs was a team effort. **\n",
    "\n",
    "Each of you should submit the SAME zip file named   \n",
    "'UNI1-UNI2.zip' to CW2. The zip should include this notebook, your source, documentation, and data files. The zip must expand into a directory named 'UNI1-UNI2', and all your files should be under the UNI1-UNI2 directory.\n"
   ]
  },
  {
   "cell_type": "markdown",
   "metadata": {},
   "source": [
    "# What does your project do?\n",
    "\n",
    "Our project is a derivative of the game Tower Defense, a timeless classic.\n",
    "Our specific version has the user go up against endless waves of zombies.\n"
   ]
  },
  {
   "cell_type": "markdown",
   "metadata": {},
   "source": [
    "# What modules did you use, if any?\n",
    "\n",
    "[pygame](https://www.pygame.org/wiki/about)"
   ]
  },
  {
   "cell_type": "markdown",
   "metadata": {},
   "source": [
    "# How to run our project\n",
    "1. Make sure all the following files are in the directory: Apple_Zombie.png, bullet.py, button.py, cannon_display.py, cannon.py, game.py, grass.pg, scoreboard.py, spritesheet_functions.py, tower_defense.py, towers.png, zombie.py\n",
    "2. Make sure you [install pygame](https://www.pygame.org/wiki/GettingStarted)\n",
    "3. In order to run the game, go into the TowerDefense directory, and just input `$ python tower_defense.py` in your terminal.\n",
    "4. The game should start up immediately. \n",
    "5. All you have to do is drag (make sure you hold the lmb while dragging) a cannon from the bottom left button and place it anywhere you want on the screen.\n",
    "6. The goal of the game is to prevent zombies from getting past the perimeter. If 20 zombies make it past the perimeter, then it is game over!"
   ]
  },
  {
   "cell_type": "markdown",
   "metadata": {},
   "source": [
    "# Documentation of overall program flow:\n",
    "\n",
    "* We followed the following basic structure of every game:\n",
    "\n",
    "```\n",
    "while in the running state:\n",
    "    STATE 1: check events\n",
    "        Check if player quit from the game or clicked their mouse\n",
    "        \n",
    "    STATE 2: update:\n",
    "        update all game objects and change the state of the game\n",
    "        \n",
    "    STATE 3: \n",
    "        draw everything to the screen again\n",
    "```\n",
    "\n",
    "Our game utilized the pygame functions in order to create a screen/window to actually run our game inside. The entire first state of our game loop required on pygame's implementation of event detection. In addition, we utilized pygame in order to \"cut\" the images from the spritesheets we got online. Using pygame, we were easily able to utlize those spritesheets to have our game objects move in a realistic manner. Furthermore, using pygame, we were easily able to detect if and when certain objects would collide with one another. For instance, during our update state, we would check if any zombies collided with any of the bullets that were shot by any of the towers placed on the screen. Finally, we relied on pygame to draw all of our objects to the screen with every iteration of the main game loop. \n"
   ]
  },
  {
   "cell_type": "markdown",
   "metadata": {},
   "source": [
    "# Screenshots\n",
    "![](towerdefense1.png)\n",
    "![](towerdefense2.png)"
   ]
  },
  {
   "cell_type": "markdown",
   "metadata": {},
   "source": [
    "# Note: an appointment to demo our game was scheduled for the afternoon of April 10, 2018"
   ]
  },
  {
   "cell_type": "markdown",
   "metadata": {},
   "source": [
    "# An evaluation of Python's suitability to our task\n",
    "- Were any problems encountered?\n",
    "> The biggest problem one of us (Saveliy Yusufov, sy2685) encountered was utilizing Anaconda and the Spyder IDE for development. A simple `conda update --all` that I run every single morning ended up bricking JupyterLab and Spyder IDE for me. After deleting and reinstalling Anaconda, and spending hours trying to find a solution, I ended up fixing the issue by simply downgrading my version of Python from 3.6.5 back down to 3.6.4. \n",
    "- Was Python a good fit for your project?\n",
    "    - In retrospect, would you have preferred to use another language for your project - R, Java, Matlab, etc\n",
    "    - Be honest! You don't have to praise Python. I want to hear about your actual experience. \n",
    "    > Although I have created a 2-D RPG game in Java before, Python and pygame made the experience much more enjoyable. In addition, I was very impressed with the overall performance of the game, given the Python is not exactly made for video game development. I can unequivocally say that R and Matlab would not have been the right tools for the job in the case of this project."
   ]
  }
 ],
 "metadata": {
  "kernelspec": {
   "display_name": "Python 3",
   "language": "python",
   "name": "python3"
  },
  "language_info": {
   "codemirror_mode": {
    "name": "ipython",
    "version": 3
   },
   "file_extension": ".py",
   "mimetype": "text/x-python",
   "name": "python",
   "nbconvert_exporter": "python",
   "pygments_lexer": "ipython3",
   "version": "3.6.5"
  }
 },
 "nbformat": 4,
 "nbformat_minor": 2
}

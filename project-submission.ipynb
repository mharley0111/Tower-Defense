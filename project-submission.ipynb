{
 "cells": [
  {
   "cell_type": "markdown",
   "metadata": {},
   "source": [
    "# Project\n",
    "- Work solo or with one other person\n",
    "- Topic should be something interesting and fun for you\n",
    "- Your code should be written in Python 3.6\n",
    "- Effort roughly equivalent to two homeworks\n",
    "    - perhaps 150-200 lines of code\n",
    "    - sometimes people really get into it, which is fine\n",
    "        - have seen 1,000 line programs, but this is NOT necessary\n",
    "- All I'm really looking for is to see you've learned some Python and can do something with it\n",
    "- Happy to discuss your project with you if you have questions\n",
    "- Hangman games are discouraged(seen a pile of them)"
   ]
  },
  {
   "cell_type": "markdown",
   "metadata": {},
   "source": [
    "# If you did a solo project, fill in this cell\n",
    "\n",
    "```\n",
    "name:\n",
    "UNI: \n",
    "```\n",
    "\n",
    "Submit a zip file named 'yourUNI.zip' to CW2 that includes this notebook, your source, documentation, and data files. The zip must expand into a directory named 'YourUNI', and all your files should be under the YourUNI directory.\n"
   ]
  },
  {
   "cell_type": "markdown",
   "metadata": {},
   "source": [
    "# If you did a project with a partner, fill in this cell\n",
    "\n",
    "#### name1: Saveliy Yusufov\n",
    "#### UNI1: sy2685\n",
    "\n",
    "- Created initial, working skeleton of the game \n",
    "- Implemented functionality to have towers adjust their aim in order to hit zombies\n",
    "\n",
    "#### name2: Michael Harley\n",
    "#### UNI2:\n",
    "\n",
    "- Took care of all sprites, images, and cutting images from spritesheets in order to utilize them in game\n",
    "- Created functionality to drag and drop towers onto the screen\n",
    "\n",
    "- ** Finding and fixing bugs, e.g. collision detection, was a team effort **\n",
    "\n",
    "Each of you should submit the SAME zip file named   \n",
    "'UNI1-UNI2.zip' to CW2. The zip should include this notebook, your source, documentation, and data files. The zip must expand into a directory named 'UNI1-UNI2', and all your files should be under the UNI1-UNI2 directory.\n"
   ]
  },
  {
   "cell_type": "markdown",
   "metadata": {},
   "source": [
    "# What does your project do?\n",
    "\n",
    "Our project is a derivative of the game Tower Defense, a timeless classic.\n",
    "Our specific version has the user go up against endless waves of zombies.\n"
   ]
  },
  {
   "cell_type": "markdown",
   "metadata": {},
   "source": [
    "# What modules did you use, if any?\n",
    "\n",
    "[pygame](https://www.pygame.org/wiki/about)"
   ]
  },
  {
   "cell_type": "markdown",
   "metadata": {},
   "source": [
    "# Explain how we can run your project\n",
    "- Make sure you include all python and data files\n",
    "- If your project has graphics, include some snapshots\n",
    "- Any documentation should be written in a notebook\n",
    "    - do NOT submit ASCII/plain text, PDFs, Word files, etc.\n",
    "- If for some reason it is not feasible for us to run your project, make an appointment with Larry to demo it\n",
    "\n",
    "\n",
    ".....\n"
   ]
  },
  {
   "cell_type": "markdown",
   "metadata": {},
   "source": [
    "# An evaluation of Python's suitability to your task\n",
    "- Were any problems encountered?\n",
    "> The biggest problem one of us (Saveliy Yusufov, sy2685) encountered was utilizing Anaconda and the Spyder IDE for development. A simple `conda update --all` that I run every single morning ended up bricking JupyterLab and Spyder IDE for me. After deleting and reinstalling Anaconda, and spending hours trying to find a solution, I ended up fixing the issue by simply downgrading my version of Python from 3.6.5 back down to 3.6.4. \n",
    "- Was Python a good fit for your project?\n",
    "    - In retrospect, would you have preferred to use another language for your project - R, Java, Matlab, etc\n",
    "    - Be honest! You don't have to praise Python. I want to hear about your actual experience. \n",
    "    > Although I have created a 2-D RPG game in Java before, Python and pygame made the experience much more enjoyable. In addition, I was very impressed with the overall performance of the game, given the Python is not exactly made for video game development. I can unequivocally say that R and Matlab would not have been the right tools for the job in the case of this project."
   ]
  }
 ],
 "metadata": {
  "kernelspec": {
   "display_name": "Python 3",
   "language": "python",
   "name": "python3"
  },
  "language_info": {
   "codemirror_mode": {
    "name": "ipython",
    "version": 3
   },
   "file_extension": ".py",
   "mimetype": "text/x-python",
   "name": "python",
   "nbconvert_exporter": "python",
   "pygments_lexer": "ipython3",
   "version": "3.6.4"
  }
 },
 "nbformat": 4,
 "nbformat_minor": 2
}
